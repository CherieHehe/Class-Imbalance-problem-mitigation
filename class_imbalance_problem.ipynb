{
  "nbformat": 4,
  "nbformat_minor": 0,
  "metadata": {
    "colab": {
      "provenance": [],
      "collapsed_sections": []
    },
    "kernelspec": {
      "name": "python3",
      "display_name": "Python 3"
    },
    "language_info": {
      "name": "python"
    }
  },
  "cells": [
    {
      "cell_type": "code",
      "execution_count": 39,
      "metadata": {
        "id": "LvXjszET9ZTA"
      },
      "outputs": [],
      "source": [
        "# Import all the required libraries\n",
        "# here we will be using XG Boost classifier as our base training model for the resampled dataset\n",
        "# F - measure is used to analyse different models\n",
        "import numpy as np\n",
        "import pandas as pd\n",
        "from xgboost import XGBClassifier\n",
        "from sklearn.metrics import accuracy_score, f1_score, confusion_matrix\n",
        "from sklearn.model_selection import train_test_split\n",
        "from collections import Counter\n",
        "import matplotlib.pyplot as plt\n",
        "import seaborn as sns\n"
      ]
    },
    {
      "cell_type": "code",
      "source": [
        "# Data is read from the csv file inputted\n",
        "dataset = pd.read_csv('credit-card.csv')\n",
        "# By default the .head keyword outputs 5 rows\n",
        "dataset.head()"
      ],
      "metadata": {
        "colab": {
          "base_uri": "https://localhost:8080/",
          "height": 317
        },
        "id": "q7HTHb6PMjcO",
        "outputId": "9750b533-1799-49be-a513-06dd598b5d74"
      },
      "execution_count": 40,
      "outputs": [
        {
          "output_type": "execute_result",
          "data": {
            "text/plain": [
              "   Unnamed: 0    Time        V1        V2        V3        V4        V5  \\\n",
              "0         541   406.0 -2.312227  1.951992 -1.609851  3.997906 -0.522188   \n",
              "1         623   472.0 -3.043541 -3.157307  1.088463  2.288644  1.359805   \n",
              "2        4920  4462.0 -2.303350  1.759247 -0.359745  2.330243 -0.821628   \n",
              "3        6108  6986.0 -4.397974  1.358367 -2.592844  2.679787 -1.128131   \n",
              "4        6329  7519.0  1.234235  3.019740 -4.304597  4.732795  3.624201   \n",
              "\n",
              "         V6        V7        V8  ...       V21       V22       V23       V24  \\\n",
              "0 -1.426545 -2.537387  1.391657  ...  0.517232 -0.035049 -0.465211  0.320198   \n",
              "1 -1.064823  0.325574 -0.067794  ...  0.661696  0.435477  1.375966 -0.293803   \n",
              "2 -0.075788  0.562320 -0.399147  ... -0.294166 -0.932391  0.172726 -0.087330   \n",
              "3 -1.706536 -3.496197 -0.248778  ...  0.573574  0.176968 -0.436207 -0.053502   \n",
              "4 -1.357746  1.713445 -0.496358  ... -0.379068 -0.704181 -0.656805 -1.632653   \n",
              "\n",
              "        V25       V26       V27       V28  Amount  Class  \n",
              "0  0.044519  0.177840  0.261145 -0.143276    0.00      1  \n",
              "1  0.279798 -0.145362 -0.252773  0.035764  529.00      1  \n",
              "2 -0.156114 -0.542628  0.039566 -0.153029  239.93      1  \n",
              "3  0.252405 -0.657488 -0.827136  0.849573   59.00      1  \n",
              "4  1.488901  0.566797 -0.010016  0.146793    1.00      1  \n",
              "\n",
              "[5 rows x 32 columns]"
            ],
            "text/html": [
              "\n",
              "  <div id=\"df-08df842c-dfb0-4128-acf3-082c881ac604\">\n",
              "    <div class=\"colab-df-container\">\n",
              "      <div>\n",
              "<style scoped>\n",
              "    .dataframe tbody tr th:only-of-type {\n",
              "        vertical-align: middle;\n",
              "    }\n",
              "\n",
              "    .dataframe tbody tr th {\n",
              "        vertical-align: top;\n",
              "    }\n",
              "\n",
              "    .dataframe thead th {\n",
              "        text-align: right;\n",
              "    }\n",
              "</style>\n",
              "<table border=\"1\" class=\"dataframe\">\n",
              "  <thead>\n",
              "    <tr style=\"text-align: right;\">\n",
              "      <th></th>\n",
              "      <th>Unnamed: 0</th>\n",
              "      <th>Time</th>\n",
              "      <th>V1</th>\n",
              "      <th>V2</th>\n",
              "      <th>V3</th>\n",
              "      <th>V4</th>\n",
              "      <th>V5</th>\n",
              "      <th>V6</th>\n",
              "      <th>V7</th>\n",
              "      <th>V8</th>\n",
              "      <th>...</th>\n",
              "      <th>V21</th>\n",
              "      <th>V22</th>\n",
              "      <th>V23</th>\n",
              "      <th>V24</th>\n",
              "      <th>V25</th>\n",
              "      <th>V26</th>\n",
              "      <th>V27</th>\n",
              "      <th>V28</th>\n",
              "      <th>Amount</th>\n",
              "      <th>Class</th>\n",
              "    </tr>\n",
              "  </thead>\n",
              "  <tbody>\n",
              "    <tr>\n",
              "      <th>0</th>\n",
              "      <td>541</td>\n",
              "      <td>406.0</td>\n",
              "      <td>-2.312227</td>\n",
              "      <td>1.951992</td>\n",
              "      <td>-1.609851</td>\n",
              "      <td>3.997906</td>\n",
              "      <td>-0.522188</td>\n",
              "      <td>-1.426545</td>\n",
              "      <td>-2.537387</td>\n",
              "      <td>1.391657</td>\n",
              "      <td>...</td>\n",
              "      <td>0.517232</td>\n",
              "      <td>-0.035049</td>\n",
              "      <td>-0.465211</td>\n",
              "      <td>0.320198</td>\n",
              "      <td>0.044519</td>\n",
              "      <td>0.177840</td>\n",
              "      <td>0.261145</td>\n",
              "      <td>-0.143276</td>\n",
              "      <td>0.00</td>\n",
              "      <td>1</td>\n",
              "    </tr>\n",
              "    <tr>\n",
              "      <th>1</th>\n",
              "      <td>623</td>\n",
              "      <td>472.0</td>\n",
              "      <td>-3.043541</td>\n",
              "      <td>-3.157307</td>\n",
              "      <td>1.088463</td>\n",
              "      <td>2.288644</td>\n",
              "      <td>1.359805</td>\n",
              "      <td>-1.064823</td>\n",
              "      <td>0.325574</td>\n",
              "      <td>-0.067794</td>\n",
              "      <td>...</td>\n",
              "      <td>0.661696</td>\n",
              "      <td>0.435477</td>\n",
              "      <td>1.375966</td>\n",
              "      <td>-0.293803</td>\n",
              "      <td>0.279798</td>\n",
              "      <td>-0.145362</td>\n",
              "      <td>-0.252773</td>\n",
              "      <td>0.035764</td>\n",
              "      <td>529.00</td>\n",
              "      <td>1</td>\n",
              "    </tr>\n",
              "    <tr>\n",
              "      <th>2</th>\n",
              "      <td>4920</td>\n",
              "      <td>4462.0</td>\n",
              "      <td>-2.303350</td>\n",
              "      <td>1.759247</td>\n",
              "      <td>-0.359745</td>\n",
              "      <td>2.330243</td>\n",
              "      <td>-0.821628</td>\n",
              "      <td>-0.075788</td>\n",
              "      <td>0.562320</td>\n",
              "      <td>-0.399147</td>\n",
              "      <td>...</td>\n",
              "      <td>-0.294166</td>\n",
              "      <td>-0.932391</td>\n",
              "      <td>0.172726</td>\n",
              "      <td>-0.087330</td>\n",
              "      <td>-0.156114</td>\n",
              "      <td>-0.542628</td>\n",
              "      <td>0.039566</td>\n",
              "      <td>-0.153029</td>\n",
              "      <td>239.93</td>\n",
              "      <td>1</td>\n",
              "    </tr>\n",
              "    <tr>\n",
              "      <th>3</th>\n",
              "      <td>6108</td>\n",
              "      <td>6986.0</td>\n",
              "      <td>-4.397974</td>\n",
              "      <td>1.358367</td>\n",
              "      <td>-2.592844</td>\n",
              "      <td>2.679787</td>\n",
              "      <td>-1.128131</td>\n",
              "      <td>-1.706536</td>\n",
              "      <td>-3.496197</td>\n",
              "      <td>-0.248778</td>\n",
              "      <td>...</td>\n",
              "      <td>0.573574</td>\n",
              "      <td>0.176968</td>\n",
              "      <td>-0.436207</td>\n",
              "      <td>-0.053502</td>\n",
              "      <td>0.252405</td>\n",
              "      <td>-0.657488</td>\n",
              "      <td>-0.827136</td>\n",
              "      <td>0.849573</td>\n",
              "      <td>59.00</td>\n",
              "      <td>1</td>\n",
              "    </tr>\n",
              "    <tr>\n",
              "      <th>4</th>\n",
              "      <td>6329</td>\n",
              "      <td>7519.0</td>\n",
              "      <td>1.234235</td>\n",
              "      <td>3.019740</td>\n",
              "      <td>-4.304597</td>\n",
              "      <td>4.732795</td>\n",
              "      <td>3.624201</td>\n",
              "      <td>-1.357746</td>\n",
              "      <td>1.713445</td>\n",
              "      <td>-0.496358</td>\n",
              "      <td>...</td>\n",
              "      <td>-0.379068</td>\n",
              "      <td>-0.704181</td>\n",
              "      <td>-0.656805</td>\n",
              "      <td>-1.632653</td>\n",
              "      <td>1.488901</td>\n",
              "      <td>0.566797</td>\n",
              "      <td>-0.010016</td>\n",
              "      <td>0.146793</td>\n",
              "      <td>1.00</td>\n",
              "      <td>1</td>\n",
              "    </tr>\n",
              "  </tbody>\n",
              "</table>\n",
              "<p>5 rows × 32 columns</p>\n",
              "</div>\n",
              "      <button class=\"colab-df-convert\" onclick=\"convertToInteractive('df-08df842c-dfb0-4128-acf3-082c881ac604')\"\n",
              "              title=\"Convert this dataframe to an interactive table.\"\n",
              "              style=\"display:none;\">\n",
              "        \n",
              "  <svg xmlns=\"http://www.w3.org/2000/svg\" height=\"24px\"viewBox=\"0 0 24 24\"\n",
              "       width=\"24px\">\n",
              "    <path d=\"M0 0h24v24H0V0z\" fill=\"none\"/>\n",
              "    <path d=\"M18.56 5.44l.94 2.06.94-2.06 2.06-.94-2.06-.94-.94-2.06-.94 2.06-2.06.94zm-11 1L8.5 8.5l.94-2.06 2.06-.94-2.06-.94L8.5 2.5l-.94 2.06-2.06.94zm10 10l.94 2.06.94-2.06 2.06-.94-2.06-.94-.94-2.06-.94 2.06-2.06.94z\"/><path d=\"M17.41 7.96l-1.37-1.37c-.4-.4-.92-.59-1.43-.59-.52 0-1.04.2-1.43.59L10.3 9.45l-7.72 7.72c-.78.78-.78 2.05 0 2.83L4 21.41c.39.39.9.59 1.41.59.51 0 1.02-.2 1.41-.59l7.78-7.78 2.81-2.81c.8-.78.8-2.07 0-2.86zM5.41 20L4 18.59l7.72-7.72 1.47 1.35L5.41 20z\"/>\n",
              "  </svg>\n",
              "      </button>\n",
              "      \n",
              "  <style>\n",
              "    .colab-df-container {\n",
              "      display:flex;\n",
              "      flex-wrap:wrap;\n",
              "      gap: 12px;\n",
              "    }\n",
              "\n",
              "    .colab-df-convert {\n",
              "      background-color: #E8F0FE;\n",
              "      border: none;\n",
              "      border-radius: 50%;\n",
              "      cursor: pointer;\n",
              "      display: none;\n",
              "      fill: #1967D2;\n",
              "      height: 32px;\n",
              "      padding: 0 0 0 0;\n",
              "      width: 32px;\n",
              "    }\n",
              "\n",
              "    .colab-df-convert:hover {\n",
              "      background-color: #E2EBFA;\n",
              "      box-shadow: 0px 1px 2px rgba(60, 64, 67, 0.3), 0px 1px 3px 1px rgba(60, 64, 67, 0.15);\n",
              "      fill: #174EA6;\n",
              "    }\n",
              "\n",
              "    [theme=dark] .colab-df-convert {\n",
              "      background-color: #3B4455;\n",
              "      fill: #D2E3FC;\n",
              "    }\n",
              "\n",
              "    [theme=dark] .colab-df-convert:hover {\n",
              "      background-color: #434B5C;\n",
              "      box-shadow: 0px 1px 3px 1px rgba(0, 0, 0, 0.15);\n",
              "      filter: drop-shadow(0px 1px 2px rgba(0, 0, 0, 0.3));\n",
              "      fill: #FFFFFF;\n",
              "    }\n",
              "  </style>\n",
              "\n",
              "      <script>\n",
              "        const buttonEl =\n",
              "          document.querySelector('#df-08df842c-dfb0-4128-acf3-082c881ac604 button.colab-df-convert');\n",
              "        buttonEl.style.display =\n",
              "          google.colab.kernel.accessAllowed ? 'block' : 'none';\n",
              "\n",
              "        async function convertToInteractive(key) {\n",
              "          const element = document.querySelector('#df-08df842c-dfb0-4128-acf3-082c881ac604');\n",
              "          const dataTable =\n",
              "            await google.colab.kernel.invokeFunction('convertToInteractive',\n",
              "                                                     [key], {});\n",
              "          if (!dataTable) return;\n",
              "\n",
              "          const docLinkHtml = 'Like what you see? Visit the ' +\n",
              "            '<a target=\"_blank\" href=https://colab.research.google.com/notebooks/data_table.ipynb>data table notebook</a>'\n",
              "            + ' to learn more about interactive tables.';\n",
              "          element.innerHTML = '';\n",
              "          dataTable['output_type'] = 'display_data';\n",
              "          await google.colab.output.renderOutput(dataTable, element);\n",
              "          const docLink = document.createElement('div');\n",
              "          docLink.innerHTML = docLinkHtml;\n",
              "          element.appendChild(docLink);\n",
              "        }\n",
              "      </script>\n",
              "    </div>\n",
              "  </div>\n",
              "  "
            ]
          },
          "metadata": {},
          "execution_count": 40
        }
      ]
    },
    {
      "cell_type": "code",
      "source": [
        "# From the given set we have to know how many of the samples are of no fraud and fraud\n",
        "# 1 means fraud has occured and 0 means no fraud\n",
        "# dataset is heavily class imbalanced\n",
        "counter = dataset['Class'].value_counts()\n",
        "\n",
        "print('Fraud occured \"1\" :', counter[1])\n",
        "print('No Fraud occured \"0\":', counter[0])\n",
        "# percentage of fraud to that of No frauds\n",
        "print((counter[1]/counter[0])* 100)"
      ],
      "metadata": {
        "colab": {
          "base_uri": "https://localhost:8080/"
        },
        "id": "npCnmN5MMzam",
        "outputId": "0b287d7e-58bb-4d61-c540-0beec5b798f1"
      },
      "execution_count": 41,
      "outputs": [
        {
          "output_type": "stream",
          "name": "stdout",
          "text": [
            "Fraud occured \"1\" : 492\n",
            "No Fraud occured \"0\": 9000\n",
            "5.466666666666667\n"
          ]
        }
      ]
    },
    {
      "cell_type": "code",
      "source": [
        "# Visual plot to know the number of samples present in both the classes\n",
        "graph = sns.countplot(dataset['Class'])\n",
        "graph.set_xticklabels(['No Fraud occured', 'Fraud occured'])\n",
        "plt.show()"
      ],
      "metadata": {
        "colab": {
          "base_uri": "https://localhost:8080/",
          "height": 334
        },
        "id": "TMDLwoteM1NS",
        "outputId": "82cfc332-bc0f-4139-a27e-664ff7042785"
      },
      "execution_count": 42,
      "outputs": [
        {
          "output_type": "stream",
          "name": "stderr",
          "text": [
            "/usr/local/lib/python3.7/dist-packages/seaborn/_decorators.py:43: FutureWarning: Pass the following variable as a keyword arg: x. From version 0.12, the only valid positional argument will be `data`, and passing other arguments without an explicit keyword will result in an error or misinterpretation.\n",
            "  FutureWarning\n"
          ]
        },
        {
          "output_type": "display_data",
          "data": {
            "text/plain": [
              "<Figure size 432x288 with 1 Axes>"
            ],
            "image/png": "[encoded data removed]"
          },
          "metadata": {
            "needs_background": "light"
          }
        }
      ]
    },
    {
      "cell_type": "code",
      "source": [
        "# Input values - All rows and last but one colums\n",
        "x = dataset.iloc[:, :-1]\n",
        "# Output values - All rows and last column \n",
        "y = dataset.iloc[:, -1]\n",
        "\n",
        "# check length of 1's and 0's\n",
        "one = np.where(y==1)\n",
        "zero = np.where(y==0)\n",
        "len(one[0]), len(zero[0])\n",
        "# splitting of the dataset for training the model and for testing the model\n",
        "x_train, x_test, y_train, y_test = train_test_split(x, y, test_size=0.2, random_state=42)\n",
        "# XGB classifier being trained\n",
        "xgb_classifier_model = XGBClassifier().fit(x_train, y_train)\n",
        "# XGB classfier tested (supervised learning)\n",
        "xgb_y_predicted_value = xgb_classifier_model.predict(x_test)\n",
        "# performance metric calculation and display\n",
        "xgb_accuracy_score = accuracy_score(xgb_y_predicted_value, y_test)\n",
        "\n",
        "print('Accuracy score of the model:', xgb_accuracy_score)\n",
        "print('F1 score of the model is:',f1_score(xgb_y_predicted_value, y_test))\n",
        "confusion_matrix(xgb_y_predicted_value, y_test)"
      ],
      "metadata": {
        "colab": {
          "base_uri": "https://localhost:8080/"
        },
        "id": "4vR2YVqkM4MN",
        "outputId": "9dcd43c6-635d-43f6-b07c-6e6e1d35c858"
      },
      "execution_count": 43,
      "outputs": [
        {
          "output_type": "stream",
          "name": "stdout",
          "text": [
            "Accuracy score of the model: 0.990521327014218\n",
            "F1 score of the model is: 0.9021739130434783\n"
          ]
        },
        {
          "output_type": "execute_result",
          "data": {
            "text/plain": [
              "array([[1798,   16],\n",
              "       [   2,   83]])"
            ]
          },
          "metadata": {},
          "execution_count": 43
        }
      ]
    },
    {
      "cell_type": "code",
      "source": [
        "# Undersampling - Random undersampling\n",
        "from imblearn.under_sampling import RandomUnderSampler\n",
        "\n",
        "rus = RandomUnderSampler(random_state = 0)\n",
        "\n",
        "x_rus, y_rus = rus.fit_resample(x, y)\n",
        "\n",
        "print('Original dataset:', Counter(y))\n",
        "print('Resample dataset:', Counter(y_rus))\n",
        "x_train1, x_test1, y_train1, y_test1 = train_test_split(x_rus, y_rus, test_size =0.20, random_state=42)\n",
        "\n",
        "training_model = XGBClassifier()\n",
        "training_model.fit(x_train1, y_train1)\n",
        "predicted_y_value = training_model.predict(x_test1)\n",
        "\n",
        "print('F1 score:',f1_score(y_test1, predicted_y_value))"
      ],
      "metadata": {
        "colab": {
          "base_uri": "https://localhost:8080/"
        },
        "id": "7lsP3aWLNYSE",
        "outputId": "e137921f-f156-4ed6-b9e3-c463798927b8"
      },
      "execution_count": 44,
      "outputs": [
        {
          "output_type": "stream",
          "name": "stdout",
          "text": [
            "Original dataset: Counter({0: 9000, 1: 492})\n",
            "Resample dataset: Counter({0: 492, 1: 492})\n",
            "F1 score: 0.9518716577540107\n"
          ]
        }
      ]
    },
    {
      "cell_type": "code",
      "source": [
        "# Undersampling - Near miss undersampling - 1\n",
        "from imblearn.under_sampling import NearMiss\n",
        "\n",
        "nm_1 = NearMiss(version = 1)\n",
        "\n",
        "x_nm_1, y_nm_1 = nm_1.fit_resample(x, y)\n",
        "\n",
        "print('Original dataset:', Counter(y))\n",
        "print('Resample dataset:', Counter(y_nm_1))\n",
        "x_train1, x_test1, y_train1, y_test1 = train_test_split(x_nm_1, y_nm_1, test_size =0.20, random_state=42)\n",
        "\n",
        "model = XGBClassifier()\n",
        "model.fit(x_train1, y_train1)\n",
        "predicted_y_value = model.predict(x_test1)\n",
        "\n",
        "print('F1 score:',f1_score(y_test1, predicted_y_value))"
      ],
      "metadata": {
        "colab": {
          "base_uri": "https://localhost:8080/"
        },
        "id": "4eYgqwjHOmO7",
        "outputId": "4182ec94-085d-479b-c9f7-e1ee0b8f2b79"
      },
      "execution_count": 45,
      "outputs": [
        {
          "output_type": "stream",
          "name": "stdout",
          "text": [
            "Original dataset: Counter({0: 9000, 1: 492})\n",
            "Resample dataset: Counter({0: 492, 1: 492})\n",
            "F1 score: 0.9411764705882354\n"
          ]
        }
      ]
    },
    {
      "cell_type": "code",
      "source": [
        "# Undersampling - Near miss 2\n",
        "from imblearn.under_sampling import NearMiss\n",
        "\n",
        "nm_2 = NearMiss(version = 2)\n",
        "\n",
        "x_nm_2, y_nm_2 = nm_2.fit_resample(x, y)\n",
        "\n",
        "print('Original dataset:', Counter(y))\n",
        "print('Resample dataset:', Counter(y_nm_2))\n",
        "x_train1, x_test1, y_train1, y_test1 = train_test_split(x_nm_2, y_nm_2, test_size =0.20, random_state=42)\n",
        "\n",
        "model = XGBClassifier()\n",
        "model.fit(x_train1, y_train1)\n",
        "predicted_y_value = model.predict(x_test1)\n",
        "\n",
        "print('F1 score:',f1_score(y_test1, predicted_y_value))"
      ],
      "metadata": {
        "colab": {
          "base_uri": "https://localhost:8080/"
        },
        "id": "WRdeQ4JJOx3O",
        "outputId": "c75de07a-e9fc-41c0-b922-dc62de341ff1"
      },
      "execution_count": 46,
      "outputs": [
        {
          "output_type": "stream",
          "name": "stdout",
          "text": [
            "Original dataset: Counter({0: 9000, 1: 492})\n",
            "Resample dataset: Counter({0: 492, 1: 492})\n",
            "F1 score: 0.9797979797979798\n"
          ]
        }
      ]
    },
    {
      "cell_type": "code",
      "source": [
        "# Undersampling - Near miss 3\n",
        "from imblearn.under_sampling import NearMiss\n",
        "\n",
        "nm_3 = NearMiss(version = 3)\n",
        "\n",
        "x_nm_3, y_nm_3 = nm_3.fit_resample(x, y)\n",
        "\n",
        "print('Original dataset:', Counter(y))\n",
        "print('Resample dataset:', Counter(y_nm_3))\n",
        "x_train1, x_test1, y_train1, y_test1 = train_test_split(x_nm_3, y_nm_3, test_size =0.20, random_state=42)\n",
        "\n",
        "model = XGBClassifier()\n",
        "model.fit(x_train1, y_train1)\n",
        "predicted_y_value = model.predict(x_test1)\n",
        "\n",
        "print('F1 score:',f1_score(y_test1, predicted_y_value))"
      ],
      "metadata": {
        "colab": {
          "base_uri": "https://localhost:8080/"
        },
        "id": "2tkUjrM2Oz3K",
        "outputId": "160de9a3-2faf-4f36-b126-93a54a7cf234"
      },
      "execution_count": 47,
      "outputs": [
        {
          "output_type": "stream",
          "name": "stdout",
          "text": [
            "Original dataset: Counter({0: 9000, 1: 492})\n",
            "Resample dataset: Counter({0: 492, 1: 492})\n",
            "F1 score: 0.935483870967742\n"
          ]
        }
      ]
    },
    {
      "cell_type": "code",
      "source": [
        "# undersampling - Tomek Links\n",
        "from imblearn.under_sampling import TomekLinks\n",
        "\n",
        "tl = TomekLinks(sampling_strategy = 'majority')\n",
        "\n",
        "x_tl, y_tl = tl.fit_resample(x, y)\n",
        "\n",
        "print('Original dataset:', Counter(y))\n",
        "print('Resample dataset:', Counter(y_tl))\n",
        "x_train1, x_test1, y_train1, y_test1 = train_test_split(x_tl, y_tl, test_size =0.20, random_state=42)\n",
        "\n",
        "model = XGBClassifier()\n",
        "model.fit(x_train1, y_train1)\n",
        "predicted_y_value = model.predict(x_test1)\n",
        "\n",
        "print('F1 score:',f1_score(y_test1, predicted_y_value))"
      ],
      "metadata": {
        "colab": {
          "base_uri": "https://localhost:8080/"
        },
        "id": "lz1bZ5hDO1Xz",
        "outputId": "40ae8fe7-5bf0-46be-e72d-bb2a96a60b8d"
      },
      "execution_count": 48,
      "outputs": [
        {
          "output_type": "stream",
          "name": "stdout",
          "text": [
            "Original dataset: Counter({0: 9000, 1: 492})\n",
            "Resample dataset: Counter({0: 8829, 1: 492})\n",
            "F1 score: 0.9035532994923857\n"
          ]
        }
      ]
    },
    {
      "cell_type": "code",
      "source": [
        "# undersampling - Edited nearest neighbour\n",
        "from imblearn.under_sampling import EditedNearestNeighbours\n",
        "\n",
        "enn = EditedNearestNeighbours()\n",
        "\n",
        "x_enn, y_enn = enn.fit_resample(x, y)\n",
        "\n",
        "print('Original dataset:', Counter(y))\n",
        "print('Resample dataset:', Counter(y_enn))\n",
        "x_train1, x_test1, y_train1, y_test1 = train_test_split(x_enn, y_enn, test_size =0.20, random_state=42)\n",
        "\n",
        "model = XGBClassifier()\n",
        "model.fit(x_train1, y_train1)\n",
        "predicted_y_value = model.predict(x_test1)\n",
        "\n",
        "print('F1 score:',f1_score(y_test1, predicted_y_value))"
      ],
      "metadata": {
        "colab": {
          "base_uri": "https://localhost:8080/"
        },
        "id": "-JP-gpAXPLW5",
        "outputId": "db82de6b-b0b6-4987-d092-567b4ba9f9dc"
      },
      "execution_count": 49,
      "outputs": [
        {
          "output_type": "stream",
          "name": "stdout",
          "text": [
            "Original dataset: Counter({0: 9000, 1: 492})\n",
            "Resample dataset: Counter({0: 8125, 1: 492})\n",
            "F1 score: 0.9028571428571428\n"
          ]
        }
      ]
    },
    {
      "cell_type": "code",
      "source": [
        "# undersampling - One sided selection\n",
        "from imblearn.under_sampling import OneSidedSelection\n",
        "oss = OneSidedSelection()\n",
        "\n",
        "x_oss, y_oss = oss.fit_resample(x, y)\n",
        "\n",
        "print('Original dataset:', Counter(y))\n",
        "print('Resample dataset:', Counter(y_oss))\n",
        "x_train1, x_test1, y_train1, y_test1 = train_test_split(x_oss, y_oss, test_size =0.20, random_state=42)\n",
        "\n",
        "model = XGBClassifier()\n",
        "model.fit(x_train1, y_train1)\n",
        "predicted_y_value = model.predict(x_test1)\n",
        "\n",
        "print('F1 score:',f1_score(y_test1, predicted_y_value))"
      ],
      "metadata": {
        "colab": {
          "base_uri": "https://localhost:8080/"
        },
        "id": "nz0-gq6yPVnk",
        "outputId": "f8fc342b-6877-47f8-b3f1-618fe355c716"
      },
      "execution_count": 50,
      "outputs": [
        {
          "output_type": "stream",
          "name": "stdout",
          "text": [
            "Original dataset: Counter({0: 9000, 1: 492})\n",
            "Resample dataset: Counter({0: 8802, 1: 492})\n",
            "F1 score: 0.900523560209424\n"
          ]
        }
      ]
    },
    {
      "cell_type": "code",
      "source": [
        "# Undersampling - Neighbourhood cleaning rule\n",
        "from imblearn.under_sampling import NeighbourhoodCleaningRule\n",
        "ncr = NeighbourhoodCleaningRule()\n",
        "\n",
        "x_ncr, y_ncr = ncr.fit_resample(x, y)\n",
        "\n",
        "print('Original dataset:', Counter(y))\n",
        "print('Resample dataset:', Counter(y_ncr))\n",
        "x_train1, x_test1, y_train1, y_test1 = train_test_split(x_ncr, y_ncr, test_size =0.20, random_state=42)\n",
        "\n",
        "model = XGBClassifier()\n",
        "model.fit(x_train1, y_train1)\n",
        "predicted_y_value = model.predict(x_test1)\n",
        "\n",
        "print('F1 score:',f1_score(y_test1, predicted_y_value))"
      ],
      "metadata": {
        "colab": {
          "base_uri": "https://localhost:8080/"
        },
        "id": "t6eJMrzyPjKg",
        "outputId": "45ad288b-ae27-4247-b557-e91e885c6cba"
      },
      "execution_count": 51,
      "outputs": [
        {
          "output_type": "stream",
          "name": "stdout",
          "text": [
            "Original dataset: Counter({0: 9000, 1: 492})\n",
            "Resample dataset: Counter({0: 8014, 1: 492})\n",
            "F1 score: 0.911764705882353\n"
          ]
        }
      ]
    },
    {
      "cell_type": "code",
      "source": [
        "#Oversampling - SMOTE\n",
        "from imblearn.over_sampling import SMOTE\n",
        "smote = SMOTE()\n",
        "\n",
        "x_smote, y_smote = smote.fit_resample(x, y)\n",
        "\n",
        "print('Original dataset:', Counter(y))\n",
        "print('Resample dataset:', Counter(y_smote))\n",
        "x_train1, x_test1, y_train1, y_test1 = train_test_split(x_smote, y_smote, test_size =0.20, random_state=42)\n",
        "\n",
        "model = XGBClassifier()\n",
        "model.fit(x_train1, y_train1)\n",
        "predicted_y_value = model.predict(x_test1)\n",
        "\n",
        "print('F1 score:',f1_score(y_test1, predicted_y_value))"
      ],
      "metadata": {
        "colab": {
          "base_uri": "https://localhost:8080/"
        },
        "id": "2dU_Zn84PuyZ",
        "outputId": "d19c990c-5fd0-438c-87a9-ff230f02672d"
      },
      "execution_count": 52,
      "outputs": [
        {
          "output_type": "stream",
          "name": "stdout",
          "text": [
            "Original dataset: Counter({0: 9000, 1: 492})\n",
            "Resample dataset: Counter({1: 9000, 0: 9000})\n",
            "F1 score: 0.9824858757062148\n"
          ]
        }
      ]
    },
    {
      "cell_type": "code",
      "source": [
        "# Oversampling - ADASYN\n",
        "from imblearn.over_sampling import ADASYN\n",
        "adasyn = ADASYN()\n",
        "\n",
        "x_adasyn, y_adasyn = adasyn.fit_resample(x, y)\n",
        "\n",
        "print('Original dataset:', Counter(y))\n",
        "print('Resample dataset:', Counter(y_adasyn))\n",
        "x_train1, x_test1, y_train1, y_test1 = train_test_split(x_adasyn, y_adasyn, test_size =0.20, random_state=42)\n",
        "\n",
        "model = XGBClassifier()\n",
        "model.fit(x_train1, y_train1)\n",
        "predicted_y_value = model.predict(x_test1)\n",
        "\n",
        "print('F1 score:',f1_score(y_test1, predicted_y_value))"
      ],
      "metadata": {
        "colab": {
          "base_uri": "https://localhost:8080/"
        },
        "id": "Nxj907psP8dN",
        "outputId": "4ae08ead-1180-4039-f962-f44733c01ae7"
      },
      "execution_count": 53,
      "outputs": [
        {
          "output_type": "stream",
          "name": "stdout",
          "text": [
            "Original dataset: Counter({0: 9000, 1: 492})\n",
            "Resample dataset: Counter({0: 9000, 1: 8979})\n",
            "F1 score: 0.981939427618783\n"
          ]
        }
      ]
    },
    {
      "cell_type": "code",
      "source": [
        "# Oversampling - Random oversampling\n",
        "from imblearn.over_sampling import RandomOverSampler\n",
        "rov = RandomOverSampler()\n",
        "\n",
        "x_rov, y_rov = rov.fit_resample(x, y)\n",
        "\n",
        "print('Original dataset:', Counter(y))\n",
        "print('Resample dataset:', Counter(y_rov))\n",
        "x_train1, x_test1, y_train1, y_test1 = train_test_split(x_rov, y_rov, test_size =0.20, random_state=42)\n",
        "\n",
        "model = XGBClassifier()\n",
        "model.fit(x_train1, y_train1)\n",
        "predicted_y_value = model.predict(x_test1)\n",
        "\n",
        "print('F1 score:',f1_score(y_test1, predicted_y_value))"
      ],
      "metadata": {
        "colab": {
          "base_uri": "https://localhost:8080/"
        },
        "id": "aLLfYjM3QEBc",
        "outputId": "2f1400f0-e968-4d69-d76c-46738c1caf91"
      },
      "execution_count": 54,
      "outputs": [
        {
          "output_type": "stream",
          "name": "stdout",
          "text": [
            "Original dataset: Counter({0: 9000, 1: 492})\n",
            "Resample dataset: Counter({1: 9000, 0: 9000})\n",
            "F1 score: 0.9919017034347948\n"
          ]
        }
      ]
    },
    {
      "cell_type": "code",
      "source": [
        "# Oversampling - Borderline SMOTE\n",
        "from imblearn.over_sampling import BorderlineSMOTE\n",
        "bsmote = BorderlineSMOTE()\n",
        "\n",
        "x_bsmote, y_bsmote = bsmote.fit_resample(x, y)\n",
        "\n",
        "print('Original dataset:', Counter(y))\n",
        "print('Resample dataset:', Counter(y_bsmote))\n",
        "x_train1, x_test1, y_train1, y_test1 = train_test_split(x_bsmote, y_bsmote, test_size =0.20, random_state=42)\n",
        "\n",
        "model = XGBClassifier()\n",
        "model.fit(x_train1, y_train1)\n",
        "predicted_y_value = model.predict(x_test1)\n",
        "\n",
        "print('F1 score:',f1_score(y_test1, predicted_y_value))"
      ],
      "metadata": {
        "colab": {
          "base_uri": "https://localhost:8080/"
        },
        "id": "7xbLoi19QMnq",
        "outputId": "9c5b0014-fe45-47e2-cee3-da6f472bfe10"
      },
      "execution_count": 55,
      "outputs": [
        {
          "output_type": "stream",
          "name": "stdout",
          "text": [
            "Original dataset: Counter({0: 9000, 1: 492})\n",
            "Resample dataset: Counter({1: 9000, 0: 9000})\n",
            "F1 score: 0.9881889763779528\n"
          ]
        }
      ]
    }
  ]
}